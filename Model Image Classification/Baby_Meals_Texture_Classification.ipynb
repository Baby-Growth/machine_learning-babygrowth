{
  "nbformat": 4,
  "nbformat_minor": 0,
  "metadata": {
    "colab": {
      "provenance": [],
      "gpuType": "T4"
    },
    "kernelspec": {
      "name": "python3",
      "display_name": "Python 3"
    },
    "language_info": {
      "name": "python"
    },
    "accelerator": "GPU"
  },
  "cells": [
    {
      "cell_type": "markdown",
      "source": [
        "## Import Library"
      ],
      "metadata": {
        "id": "Jji0DPNYuT9f"
      }
    },
    {
      "cell_type": "code",
      "execution_count": 42,
      "metadata": {
        "id": "HPfPMTErrzyr"
      },
      "outputs": [],
      "source": [
        "import numpy as np\n",
        "import pandas as pd\n",
        "import matplotlib.pyplot as plt\n",
        "import tensorflow as tf\n",
        "from tensorflow import keras\n",
        "from keras.layers import Conv2D, MaxPooling2D, Flatten, Dense, BatchNormalization, Dropout, GlobalAveragePooling2D\n",
        "from keras.models import Sequential\n",
        "from keras.preprocessing import image\n",
        "from keras.preprocessing.image import ImageDataGenerator\n",
        "from tensorflow.keras.applications import VGG19, EfficientNetB0, MobileNetV2\n",
        "from sklearn.metrics import confusion_matrix, classification_report\n",
        "from tensorflow.keras.regularizers import l2\n",
        "import os, shutil\n",
        "import warnings\n",
        "from google.colab import drive\n",
        "warnings.filterwarnings('ignore')"
      ]
    },
    {
      "cell_type": "markdown",
      "source": [
        "## Data"
      ],
      "metadata": {
        "id": "5_xaAN7luXCG"
      }
    },
    {
      "cell_type": "code",
      "source": [
        "drive.mount(\"/content/drive\")"
      ],
      "metadata": {
        "colab": {
          "base_uri": "https://localhost:8080/"
        },
        "id": "AP4V3r5yr87B",
        "outputId": "daaf6a19-a3d2-460d-c677-291a5f73d6c8"
      },
      "execution_count": 43,
      "outputs": [
        {
          "output_type": "stream",
          "name": "stdout",
          "text": [
            "Drive already mounted at /content/drive; to attempt to forcibly remount, call drive.mount(\"/content/drive\", force_remount=True).\n"
          ]
        }
      ]
    },
    {
      "cell_type": "code",
      "source": [
        "train_data = \"/content/drive/MyDrive/Bangkit Capstone/Klasifikasi Gambar/train\"\n",
        "validation_data = \"/content/drive/MyDrive/Bangkit Capstone/Klasifikasi Gambar/test\""
      ],
      "metadata": {
        "id": "qY9iEoTquTMT"
      },
      "execution_count": 44,
      "outputs": []
    },
    {
      "cell_type": "code",
      "source": [
        "train_gen = ImageDataGenerator( rotation_range=20,\n",
        "                                zoom_range=0.15,\n",
        "                                width_shift_range=0.2,\n",
        "                                height_shift_range=0.2,\n",
        "                                shear_range=0.15,\n",
        "                                horizontal_flip=True,\n",
        "                                fill_mode=\"nearest\"\n",
        "                              )\n",
        "\n",
        "train_image_generator = train_gen.flow_from_directory(\n",
        "                                            train_data,\n",
        "                                            target_size=(224, 224),\n",
        "                                            batch_size=32,\n",
        "                                            class_mode='categorical')\n",
        "\n",
        "\n",
        "val_gen = ImageDataGenerator()\n",
        "val_image_generator = val_gen.flow_from_directory(\n",
        "                                            validation_data,\n",
        "                                            target_size=(224, 224),\n",
        "                                            batch_size=32,\n",
        "                                            class_mode='categorical')"
      ],
      "metadata": {
        "colab": {
          "base_uri": "https://localhost:8080/"
        },
        "id": "mUOdI49F2I4_",
        "outputId": "cfaf6208-44b0-45c9-8807-7c84e2db62f0"
      },
      "execution_count": 45,
      "outputs": [
        {
          "output_type": "stream",
          "name": "stdout",
          "text": [
            "Found 408 images belonging to 4 classes.\n",
            "Found 80 images belonging to 4 classes.\n"
          ]
        }
      ]
    },
    {
      "cell_type": "code",
      "source": [
        "base_model = VGG19(weights='imagenet', include_top=False, input_shape=(224, 224, 3))\n",
        "\n",
        "\n",
        "# Freeze the base model layers\n",
        "for layer in base_model.layers:\n",
        "    layer.trainable = False"
      ],
      "metadata": {
        "id": "NYGgVX8z2uQ6"
      },
      "execution_count": 46,
      "outputs": []
    },
    {
      "cell_type": "code",
      "source": [
        "learning_rate = 0.001\n",
        "\n",
        "model = tf.keras.models.Sequential([\n",
        "      base_model,\n",
        "      Flatten(),\n",
        "      Dense(512, activation='relu'),\n",
        "      BatchNormalization(),\n",
        "      Dropout(0.5),\n",
        "      Dense(256, activation='relu'),\n",
        "      BatchNormalization(),\n",
        "      Dropout(0.5),\n",
        "      Dense(4, activation='softmax')\n",
        "      ])\n",
        "\n",
        "model.compile(optimizer=keras.optimizers.Adam(learning_rate=learning_rate),\n",
        "              loss='categorical_crossentropy',\n",
        "              metrics=['accuracy'])"
      ],
      "metadata": {
        "id": "3Xrzk3yt9Ckh"
      },
      "execution_count": 77,
      "outputs": []
    },
    {
      "cell_type": "code",
      "source": [
        "model.summary()"
      ],
      "metadata": {
        "colab": {
          "base_uri": "https://localhost:8080/"
        },
        "id": "8c21Kupb9No_",
        "outputId": "fdc5c3be-b087-463a-ba1f-69695d24a17a"
      },
      "execution_count": 78,
      "outputs": [
        {
          "output_type": "stream",
          "name": "stdout",
          "text": [
            "Model: \"sequential_8\"\n",
            "_________________________________________________________________\n",
            " Layer (type)                Output Shape              Param #   \n",
            "=================================================================\n",
            " vgg19 (Functional)          (None, 7, 7, 512)         20024384  \n",
            "                                                                 \n",
            " flatten_8 (Flatten)         (None, 25088)             0         \n",
            "                                                                 \n",
            " dense_30 (Dense)            (None, 512)               12845568  \n",
            "                                                                 \n",
            " batch_normalization_16 (Ba  (None, 512)               2048      \n",
            " tchNormalization)                                               \n",
            "                                                                 \n",
            " dropout_18 (Dropout)        (None, 512)               0         \n",
            "                                                                 \n",
            " dense_31 (Dense)            (None, 256)               131328    \n",
            "                                                                 \n",
            " batch_normalization_17 (Ba  (None, 256)               1024      \n",
            " tchNormalization)                                               \n",
            "                                                                 \n",
            " dropout_19 (Dropout)        (None, 256)               0         \n",
            "                                                                 \n",
            " dense_32 (Dense)            (None, 4)                 1028      \n",
            "                                                                 \n",
            "=================================================================\n",
            "Total params: 33005380 (125.91 MB)\n",
            "Trainable params: 12979460 (49.51 MB)\n",
            "Non-trainable params: 20025920 (76.39 MB)\n",
            "_________________________________________________________________\n"
          ]
        }
      ]
    },
    {
      "cell_type": "code",
      "source": [
        "class myCallback(tf.keras.callbacks.Callback):\n",
        "  def on_epoch_end(self, epoch, logs={}):\n",
        "    if(logs.get('accuracy')>0.90 and logs.get('val_accuracy')>0.90):\n",
        "      print(\"accuracy > 99% skala data\")\n",
        "      self.model.stop_training = True\n",
        "callbacks = myCallback()"
      ],
      "metadata": {
        "id": "B4-PlYiUPSk2"
      },
      "execution_count": 79,
      "outputs": []
    },
    {
      "cell_type": "code",
      "source": [
        "checkpoint = keras.callbacks.ModelCheckpoint(\n",
        "             'model_best.h5',\n",
        "             save_best_only=True,\n",
        "             monitor='val_accuracy',\n",
        "             mode='max')\n",
        "\n",
        "early_stopping = keras.callbacks.EarlyStopping(patience=10,monitor='val_loss',restore_best_weights=True)"
      ],
      "metadata": {
        "id": "L2cY8HQy-Vzx"
      },
      "execution_count": 80,
      "outputs": []
    },
    {
      "cell_type": "code",
      "source": [
        "reduce_lr = keras.callbacks.ReduceLROnPlateau(monitor='val_loss', factor=0.2, patience=5, min_lr=1e-6)"
      ],
      "metadata": {
        "id": "4R9md9XAzihs"
      },
      "execution_count": 81,
      "outputs": []
    },
    {
      "cell_type": "code",
      "source": [
        "history = model.fit(train_image_generator,\n",
        "                    validation_data=val_image_generator,\n",
        "                    epochs=50,\n",
        "                    callbacks=[callbacks, checkpoint])"
      ],
      "metadata": {
        "colab": {
          "base_uri": "https://localhost:8080/"
        },
        "id": "2r2c-9K69Ply",
        "outputId": "854c08ab-833b-420f-a05d-07c3ab22e926"
      },
      "execution_count": 82,
      "outputs": [
        {
          "output_type": "stream",
          "name": "stdout",
          "text": [
            "Epoch 1/50\n",
            "13/13 [==============================] - 12s 770ms/step - loss: 1.2822 - accuracy: 0.5711 - val_loss: 1.6536 - val_accuracy: 0.7625\n",
            "Epoch 2/50\n",
            "13/13 [==============================] - 9s 687ms/step - loss: 0.6584 - accuracy: 0.7623 - val_loss: 1.3686 - val_accuracy: 0.7875\n",
            "Epoch 3/50\n",
            "13/13 [==============================] - 9s 678ms/step - loss: 0.4701 - accuracy: 0.8382 - val_loss: 0.7940 - val_accuracy: 0.8125\n",
            "Epoch 4/50\n",
            "13/13 [==============================] - 11s 841ms/step - loss: 0.4341 - accuracy: 0.8431 - val_loss: 0.5527 - val_accuracy: 0.8250\n",
            "Epoch 5/50\n",
            "13/13 [==============================] - 10s 777ms/step - loss: 0.3108 - accuracy: 0.8824 - val_loss: 0.5868 - val_accuracy: 0.8500\n",
            "Epoch 6/50\n",
            "13/13 [==============================] - 10s 716ms/step - loss: 0.2829 - accuracy: 0.9020 - val_loss: 0.6074 - val_accuracy: 0.8625\n",
            "Epoch 7/50\n",
            "13/13 [==============================] - 11s 801ms/step - loss: 0.2452 - accuracy: 0.9167 - val_loss: 0.3939 - val_accuracy: 0.8875\n",
            "Epoch 8/50\n",
            "13/13 [==============================] - 9s 719ms/step - loss: 0.2467 - accuracy: 0.9020 - val_loss: 0.3490 - val_accuracy: 0.8750\n",
            "Epoch 9/50\n",
            "13/13 [==============================] - 8s 618ms/step - loss: 0.1500 - accuracy: 0.9461 - val_loss: 0.4061 - val_accuracy: 0.8875\n",
            "Epoch 10/50\n",
            "13/13 [==============================] - 9s 729ms/step - loss: 0.1735 - accuracy: 0.9314 - val_loss: 0.3384 - val_accuracy: 0.8750\n",
            "Epoch 11/50\n",
            "13/13 [==============================] - 9s 686ms/step - loss: 0.1971 - accuracy: 0.9216 - val_loss: 0.4498 - val_accuracy: 0.8500\n",
            "Epoch 12/50\n",
            "13/13 [==============================] - 9s 693ms/step - loss: 0.1962 - accuracy: 0.9387 - val_loss: 0.4110 - val_accuracy: 0.8875\n",
            "Epoch 13/50\n",
            "13/13 [==============================] - 10s 749ms/step - loss: 0.2075 - accuracy: 0.9167 - val_loss: 0.3612 - val_accuracy: 0.8875\n",
            "Epoch 14/50\n",
            "13/13 [==============================] - 9s 676ms/step - loss: 0.2011 - accuracy: 0.9265 - val_loss: 0.3367 - val_accuracy: 0.8875\n",
            "Epoch 15/50\n",
            "13/13 [==============================] - 9s 665ms/step - loss: 0.1616 - accuracy: 0.9412 - val_loss: 0.3322 - val_accuracy: 0.9000\n",
            "Epoch 16/50\n",
            "13/13 [==============================] - 10s 725ms/step - loss: 0.1636 - accuracy: 0.9461 - val_loss: 0.3364 - val_accuracy: 0.8750\n",
            "Epoch 17/50\n",
            "13/13 [==============================] - 9s 712ms/step - loss: 0.1241 - accuracy: 0.9559 - val_loss: 0.3652 - val_accuracy: 0.8750\n",
            "Epoch 18/50\n",
            "13/13 [==============================] - 8s 634ms/step - loss: 0.1866 - accuracy: 0.9412 - val_loss: 0.3927 - val_accuracy: 0.8875\n",
            "Epoch 19/50\n",
            "13/13 [==============================] - 9s 735ms/step - loss: 0.1290 - accuracy: 0.9510 - val_loss: 0.3440 - val_accuracy: 0.8625\n",
            "Epoch 20/50\n",
            "13/13 [==============================] - 9s 724ms/step - loss: 0.1646 - accuracy: 0.9387 - val_loss: 0.3426 - val_accuracy: 0.8500\n",
            "Epoch 21/50\n",
            "13/13 [==============================] - 8s 629ms/step - loss: 0.1293 - accuracy: 0.9534 - val_loss: 0.3828 - val_accuracy: 0.8750\n",
            "Epoch 22/50\n",
            "13/13 [==============================] - 10s 749ms/step - loss: 0.1248 - accuracy: 0.9559 - val_loss: 0.4844 - val_accuracy: 0.8625\n",
            "Epoch 23/50\n",
            "13/13 [==============================] - 10s 738ms/step - loss: 0.0968 - accuracy: 0.9559 - val_loss: 0.5446 - val_accuracy: 0.8500\n",
            "Epoch 24/50\n",
            "13/13 [==============================] - 8s 633ms/step - loss: 0.1888 - accuracy: 0.9436 - val_loss: 0.4611 - val_accuracy: 0.8625\n",
            "Epoch 25/50\n",
            "13/13 [==============================] - 11s 869ms/step - loss: 0.1424 - accuracy: 0.9412 - val_loss: 0.3697 - val_accuracy: 0.8500\n",
            "Epoch 26/50\n",
            "13/13 [==============================] - 9s 678ms/step - loss: 0.1521 - accuracy: 0.9387 - val_loss: 0.3090 - val_accuracy: 0.8625\n",
            "Epoch 27/50\n",
            "13/13 [==============================] - 8s 616ms/step - loss: 0.0806 - accuracy: 0.9755 - val_loss: 0.3194 - val_accuracy: 0.8750\n",
            "Epoch 28/50\n",
            "13/13 [==============================] - 10s 746ms/step - loss: 0.1009 - accuracy: 0.9706 - val_loss: 0.3331 - val_accuracy: 0.8625\n",
            "Epoch 29/50\n",
            "13/13 [==============================] - 9s 669ms/step - loss: 0.0610 - accuracy: 0.9828 - val_loss: 0.4001 - val_accuracy: 0.8500\n",
            "Epoch 30/50\n",
            "13/13 [==============================] - 9s 635ms/step - loss: 0.0704 - accuracy: 0.9755 - val_loss: 0.4219 - val_accuracy: 0.8625\n",
            "Epoch 31/50\n",
            "13/13 [==============================] - 10s 746ms/step - loss: 0.0599 - accuracy: 0.9755 - val_loss: 0.3830 - val_accuracy: 0.8875\n",
            "Epoch 32/50\n",
            "13/13 [==============================] - 9s 670ms/step - loss: 0.1124 - accuracy: 0.9608 - val_loss: 0.3444 - val_accuracy: 0.9000\n",
            "Epoch 33/50\n",
            "13/13 [==============================] - 8s 619ms/step - loss: 0.1481 - accuracy: 0.9436 - val_loss: 0.3299 - val_accuracy: 0.8875\n",
            "Epoch 34/50\n",
            "13/13 [==============================] - 9s 660ms/step - loss: 0.0812 - accuracy: 0.9706 - val_loss: 0.3558 - val_accuracy: 0.8875\n",
            "Epoch 35/50\n",
            "13/13 [==============================] - 10s 742ms/step - loss: 0.0612 - accuracy: 0.9755 - val_loss: 0.3680 - val_accuracy: 0.8750\n",
            "Epoch 36/50\n",
            "13/13 [==============================] - 8s 625ms/step - loss: 0.0324 - accuracy: 0.9926 - val_loss: 0.3801 - val_accuracy: 0.8750\n",
            "Epoch 37/50\n",
            "13/13 [==============================] - 9s 675ms/step - loss: 0.0719 - accuracy: 0.9755 - val_loss: 0.3663 - val_accuracy: 0.8875\n",
            "Epoch 38/50\n",
            "13/13 [==============================] - 10s 750ms/step - loss: 0.0429 - accuracy: 0.9828 - val_loss: 0.3789 - val_accuracy: 0.9000\n",
            "Epoch 39/50\n",
            "13/13 [==============================] - ETA: 0s - loss: 0.0679 - accuracy: 0.9681accuracy > 99% skala data\n",
            "13/13 [==============================] - 9s 728ms/step - loss: 0.0679 - accuracy: 0.9681 - val_loss: 0.3599 - val_accuracy: 0.9125\n"
          ]
        }
      ]
    },
    {
      "cell_type": "code",
      "source": [
        "model.evaluate(train_image_generator)"
      ],
      "metadata": {
        "id": "tSE5CgN8_7T4",
        "colab": {
          "base_uri": "https://localhost:8080/"
        },
        "outputId": "bf0f9231-cb6d-4b73-9398-c9e9db130525"
      },
      "execution_count": 83,
      "outputs": [
        {
          "output_type": "stream",
          "name": "stdout",
          "text": [
            "13/13 [==============================] - 9s 642ms/step - loss: 0.0288 - accuracy: 0.9902\n"
          ]
        },
        {
          "output_type": "execute_result",
          "data": {
            "text/plain": [
              "[0.02879195660352707, 0.9901960492134094]"
            ]
          },
          "metadata": {},
          "execution_count": 83
        }
      ]
    },
    {
      "cell_type": "code",
      "source": [
        "model.evaluate(val_image_generator)"
      ],
      "metadata": {
        "id": "xyscPkoI_713",
        "colab": {
          "base_uri": "https://localhost:8080/"
        },
        "outputId": "8eb88a47-0c29-44d7-fe8d-c75f0feec2bd"
      },
      "execution_count": 84,
      "outputs": [
        {
          "output_type": "stream",
          "name": "stdout",
          "text": [
            "3/3 [==============================] - 1s 127ms/step - loss: 0.3599 - accuracy: 0.9125\n"
          ]
        },
        {
          "output_type": "execute_result",
          "data": {
            "text/plain": [
              "[0.35991260409355164, 0.9125000238418579]"
            ]
          },
          "metadata": {},
          "execution_count": 84
        }
      ]
    },
    {
      "cell_type": "code",
      "source": [
        "pd.DataFrame(history.history).plot()"
      ],
      "metadata": {
        "id": "B15HyRJE_9lP",
        "colab": {
          "base_uri": "https://localhost:8080/",
          "height": 447
        },
        "outputId": "23bf8f85-bed0-426d-bfac-b6288a153ee8"
      },
      "execution_count": 85,
      "outputs": [
        {
          "output_type": "execute_result",
          "data": {
            "text/plain": [
              "<Axes: >"
            ]
          },
          "metadata": {},
          "execution_count": 85
        },
        {
          "output_type": "display_data",
          "data": {
            "text/plain": [
              "<Figure size 640x480 with 1 Axes>"
            ],
            "image/png": "[encoded data removed]"
          },
          "metadata": {}
        }
      ]
    },
    {
      "cell_type": "code",
      "source": [
        "class_indices = train_image_generator.class_indices\n",
        "class_indices"
      ],
      "metadata": {
        "id": "4kTeB2YZDrzU",
        "colab": {
          "base_uri": "https://localhost:8080/"
        },
        "outputId": "87f9f067-db38-4852-8fbe-794a4e78adde"
      },
      "execution_count": 86,
      "outputs": [
        {
          "output_type": "execute_result",
          "data": {
            "text/plain": [
              "{'Bukan Makanan': 0, 'Kasar': 1, 'Lumat': 2, 'Lunak': 3}"
            ]
          },
          "metadata": {},
          "execution_count": 86
        }
      ]
    },
    {
      "cell_type": "code",
      "source": [
        "from tensorflow.keras.preprocessing import image\n",
        "from google.colab import files\n",
        "\n",
        "# Load the best saved model\n",
        "model = tf.keras.models.load_model('model_best.h5')\n",
        "\n",
        "def load_and_preprocess_image(img_path, target_size=(224, 224)):\n",
        "    \"\"\"\n",
        "    Load an image and preprocess it to be suitable for the model.\n",
        "    \"\"\"\n",
        "    img = image.load_img(img_path, target_size=target_size)\n",
        "    img_array = image.img_to_array(img)\n",
        "    img_array = np.expand_dims(img_array, axis=0)  # Expand dims to add batch size\n",
        "    img_array = tf.keras.applications.vgg19.preprocess_input(img_array)  # Preprocess image for VGG19\n",
        "    return img_array\n",
        "\n",
        "def predict_image(img_path):\n",
        "    \"\"\"\n",
        "    Predict the class of an image.\n",
        "    \"\"\"\n",
        "    # Preprocess the image\n",
        "    img_array = load_and_preprocess_image(img_path)\n",
        "\n",
        "    # Make prediction\n",
        "    predictions = model.predict(img_array)\n",
        "    predicted_class = np.argmax(predictions, axis=1)\n",
        "\n",
        "    # Get the class labels from the training data generator\n",
        "    class_labels = list(train_image_generator.class_indices.keys())\n",
        "\n",
        "    # Map predicted class index to class label\n",
        "    predicted_label = class_labels[predicted_class[0]]\n",
        "\n",
        "    return predicted_label\n",
        "\n",
        "# Upload the file\n",
        "uploaded = files.upload()\n",
        "\n",
        "# Predict the uploaded image\n",
        "for img_name in uploaded.keys():\n",
        "    predicted_label = predict_image(img_name)\n",
        "    print(f\"The predicted label for the image '{img_name}' is: {predicted_label}\")\n"
      ],
      "metadata": {
        "id": "Tim6DfYyDK5c",
        "colab": {
          "base_uri": "https://localhost:8080/",
          "height": 108
        },
        "outputId": "e183923d-f674-473b-a7ba-99233fe719df"
      },
      "execution_count": 101,
      "outputs": [
        {
          "output_type": "display_data",
          "data": {
            "text/plain": [
              "<IPython.core.display.HTML object>"
            ],
            "text/html": [
              "\n",
              "     <input type=\"file\" id=\"files-1e774068-3140-42ea-8f43-af5457587b19\" name=\"files[]\" multiple disabled\n",
              "        style=\"border:none\" />\n",
              "     <output id=\"result-1e774068-3140-42ea-8f43-af5457587b19\">\n",
              "      Upload widget is only available when the cell has been executed in the\n",
              "      current browser session. Please rerun this cell to enable.\n",
              "      </output>\n",
              "      <script>// Copyright 2017 Google LLC\n",
              "//\n",
              "// Licensed under the Apache License, Version 2.0 (the \"License\");\n",
              "// you may not use this file except in compliance with the License.\n",
              "// You may obtain a copy of the License at\n",
              "//\n",
              "//      http://www.apache.org/licenses/LICENSE-2.0\n",
              "//\n",
              "// Unless required by applicable law or agreed to in writing, software\n",
              "// distributed under the License is distributed on an \"AS IS\" BASIS,\n",
              "// WITHOUT WARRANTIES OR CONDITIONS OF ANY KIND, either express or implied.\n",
              "// See the License for the specific language governing permissions and\n",
              "// limitations under the License.\n",
              "\n",
              "/**\n",
              " * @fileoverview Helpers for google.colab Python module.\n",
              " */\n",
              "(function(scope) {\n",
              "function span(text, styleAttributes = {}) {\n",
              "  const element = document.createElement('span');\n",
              "  element.textContent = text;\n",
              "  for (const key of Object.keys(styleAttributes)) {\n",
              "    element.style[key] = styleAttributes[key];\n",
              "  }\n",
              "  return element;\n",
              "}\n",
              "\n",
              "// Max number of bytes which will be uploaded at a time.\n",
              "const MAX_PAYLOAD_SIZE = 100 * 1024;\n",
              "\n",
              "function _uploadFiles(inputId, outputId) {\n",
              "  const steps = uploadFilesStep(inputId, outputId);\n",
              "  const outputElement = document.getElementById(outputId);\n",
              "  // Cache steps on the outputElement to make it available for the next call\n",
              "  // to uploadFilesContinue from Python.\n",
              "  outputElement.steps = steps;\n",
              "\n",
              "  return _uploadFilesContinue(outputId);\n",
              "}\n",
              "\n",
              "// This is roughly an async generator (not supported in the browser yet),\n",
              "// where there are multiple asynchronous steps and the Python side is going\n",
              "// to poll for completion of each step.\n",
              "// This uses a Promise to block the python side on completion of each step,\n",
              "// then passes the result of the previous step as the input to the next step.\n",
              "function _uploadFilesContinue(outputId) {\n",
              "  const outputElement = document.getElementById(outputId);\n",
              "  const steps = outputElement.steps;\n",
              "\n",
              "  const next = steps.next(outputElement.lastPromiseValue);\n",
              "  return Promise.resolve(next.value.promise).then((value) => {\n",
              "    // Cache the last promise value to make it available to the next\n",
              "    // step of the generator.\n",
              "    outputElement.lastPromiseValue = value;\n",
              "    return next.value.response;\n",
              "  });\n",
              "}\n",
              "\n",
              "/**\n",
              " * Generator function which is called between each async step of the upload\n",
              " * process.\n",
              " * @param {string} inputId Element ID of the input file picker element.\n",
              " * @param {string} outputId Element ID of the output display.\n",
              " * @return {!Iterable<!Object>} Iterable of next steps.\n",
              " */\n",
              "function* uploadFilesStep(inputId, outputId) {\n",
              "  const inputElement = document.getElementById(inputId);\n",
              "  inputElement.disabled = false;\n",
              "\n",
              "  const outputElement = document.getElementById(outputId);\n",
              "  outputElement.innerHTML = '';\n",
              "\n",
              "  const pickedPromise = new Promise((resolve) => {\n",
              "    inputElement.addEventListener('change', (e) => {\n",
              "      resolve(e.target.files);\n",
              "    });\n",
              "  });\n",
              "\n",
              "  const cancel = document.createElement('button');\n",
              "  inputElement.parentElement.appendChild(cancel);\n",
              "  cancel.textContent = 'Cancel upload';\n",
              "  const cancelPromise = new Promise((resolve) => {\n",
              "    cancel.onclick = () => {\n",
              "      resolve(null);\n",
              "    };\n",
              "  });\n",
              "\n",
              "  // Wait for the user to pick the files.\n",
              "  const files = yield {\n",
              "    promise: Promise.race([pickedPromise, cancelPromise]),\n",
              "    response: {\n",
              "      action: 'starting',\n",
              "    }\n",
              "  };\n",
              "\n",
              "  cancel.remove();\n",
              "\n",
              "  // Disable the input element since further picks are not allowed.\n",
              "  inputElement.disabled = true;\n",
              "\n",
              "  if (!files) {\n",
              "    return {\n",
              "      response: {\n",
              "        action: 'complete',\n",
              "      }\n",
              "    };\n",
              "  }\n",
              "\n",
              "  for (const file of files) {\n",
              "    const li = document.createElement('li');\n",
              "    li.append(span(file.name, {fontWeight: 'bold'}));\n",
              "    li.append(span(\n",
              "        `(${file.type || 'n/a'}) - ${file.size} bytes, ` +\n",
              "        `last modified: ${\n",
              "            file.lastModifiedDate ? file.lastModifiedDate.toLocaleDateString() :\n",
              "                                    'n/a'} - `));\n",
              "    const percent = span('0% done');\n",
              "    li.appendChild(percent);\n",
              "\n",
              "    outputElement.appendChild(li);\n",
              "\n",
              "    const fileDataPromise = new Promise((resolve) => {\n",
              "      const reader = new FileReader();\n",
              "      reader.onload = (e) => {\n",
              "        resolve(e.target.result);\n",
              "      };\n",
              "      reader.readAsArrayBuffer(file);\n",
              "    });\n",
              "    // Wait for the data to be ready.\n",
              "    let fileData = yield {\n",
              "      promise: fileDataPromise,\n",
              "      response: {\n",
              "        action: 'continue',\n",
              "      }\n",
              "    };\n",
              "\n",
              "    // Use a chunked sending to avoid message size limits. See b/62115660.\n",
              "    let position = 0;\n",
              "    do {\n",
              "      const length = Math.min(fileData.byteLength - position, MAX_PAYLOAD_SIZE);\n",
              "      const chunk = new Uint8Array(fileData, position, length);\n",
              "      position += length;\n",
              "\n",
              "      const base64 = btoa(String.fromCharCode.apply(null, chunk));\n",
              "      yield {\n",
              "        response: {\n",
              "          action: 'append',\n",
              "          file: file.name,\n",
              "          data: base64,\n",
              "        },\n",
              "      };\n",
              "\n",
              "      let percentDone = fileData.byteLength === 0 ?\n",
              "          100 :\n",
              "          Math.round((position / fileData.byteLength) * 100);\n",
              "      percent.textContent = `${percentDone}% done`;\n",
              "\n",
              "    } while (position < fileData.byteLength);\n",
              "  }\n",
              "\n",
              "  // All done.\n",
              "  yield {\n",
              "    response: {\n",
              "      action: 'complete',\n",
              "    }\n",
              "  };\n",
              "}\n",
              "\n",
              "scope.google = scope.google || {};\n",
              "scope.google.colab = scope.google.colab || {};\n",
              "scope.google.colab._files = {\n",
              "  _uploadFiles,\n",
              "  _uploadFilesContinue,\n",
              "};\n",
              "})(self);\n",
              "</script> "
            ]
          },
          "metadata": {}
        },
        {
          "output_type": "stream",
          "name": "stdout",
          "text": [
            "Saving bubur_candil.jpeg to bubur_candil.jpeg\n",
            "1/1 [==============================] - 0s 187ms/step\n",
            "The predicted label for the image 'bubur_candil.jpeg' is: Lunak\n"
          ]
        }
      ]
    },
    {
      "cell_type": "code",
      "source": [
        "model_json = model.to_json()\n",
        "with open(\"model_best.json\", \"w\") as json_file:\n",
        "    json_file.write(model_json)\n",
        "\n",
        "# Save the model weights to a separate .h5 file\n",
        "model.save_weights(\"model_best_weights.h5\")"
      ],
      "metadata": {
        "id": "XxniSpCKDzqr"
      },
      "execution_count": 94,
      "outputs": []
    },
    {
      "cell_type": "code",
      "source": [
        "model.save(\"./model/model_texture.h5\")"
      ],
      "metadata": {
        "id": "6WMBEJlv_P6d"
      },
      "execution_count": 97,
      "outputs": []
    },
    {
      "cell_type": "code",
      "source": [
        "!tensorflowjs_converter --input_format=keras {\"./model/model_texture.h5\"} ./model"
      ],
      "metadata": {
        "colab": {
          "base_uri": "https://localhost:8080/"
        },
        "id": "5eDVREZ9_nPI",
        "outputId": "12a44b74-1df6-4f47-bc76-86d48abe4468"
      },
      "execution_count": 99,
      "outputs": [
        {
          "output_type": "stream",
          "name": "stdout",
          "text": [
            "2024-06-01 08:51:22.525949: W tensorflow/compiler/tf2tensorrt/utils/py_utils.cc:38] TF-TRT Warning: Could not find TensorRT\n"
          ]
        }
      ]
    },
    {
      "cell_type": "code",
      "source": [
        "import zipfile\n",
        "import os\n",
        "\n",
        "def create_zip_folder(folder_path, zip_path):\n",
        "    \"\"\"\n",
        "    Membuat file zip dari folder.\n",
        "\n",
        "    Args:\n",
        "    - folder_path (str): Path folder yang ingin Anda zip.\n",
        "    - zip_path (str): Path di mana file zip akan disimpan.\n",
        "    \"\"\"\n",
        "    with zipfile.ZipFile(zip_path, 'w', zipfile.ZIP_DEFLATED) as zipf:\n",
        "        for root, _, files in os.walk(folder_path):\n",
        "            for file in files:\n",
        "                file_path = os.path.join(root, file)\n",
        "                zipf.write(file_path, os.path.relpath(file_path, folder_path))\n",
        "\n",
        "folder_path = '/content/model'\n",
        "zip_path = '/content/model.zip'\n",
        "\n",
        "create_zip_folder(folder_path, zip_path)\n",
        "print(f\"Folder '{folder_path}' telah di-zip ke '{zip_path}'.\")\n"
      ],
      "metadata": {
        "colab": {
          "base_uri": "https://localhost:8080/"
        },
        "id": "puBs6cVoAOA6",
        "outputId": "c8e990d1-a0e8-437c-81a6-7e4c43152d98"
      },
      "execution_count": 100,
      "outputs": [
        {
          "output_type": "stream",
          "name": "stdout",
          "text": [
            "Folder '/content/model' telah di-zip ke '/content/model.zip'.\n"
          ]
        }
      ]
    }
  ]
}